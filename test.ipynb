{
 "cells": [
  {
   "cell_type": "code",
   "execution_count": null,
   "metadata": {},
   "outputs": [],
   "source": [
    "import urllib.request\n",
    "urllib.request.urlretrieve('https://github.com/Nicholas-Kastanos/tf-yolov4-compress/archive/main.zip','tf-yolov4-compress.zip')"
   ]
  },
  {
   "cell_type": "code",
   "execution_count": null,
   "metadata": {},
   "outputs": [],
   "source": [
    "!unzip tf-yolov4-compress\n",
    "%cd tf-yolov4-compress-main/\n",
    "%pwd"
   ]
  },
  {
   "cell_type": "code",
   "execution_count": 1,
   "metadata": {},
   "outputs": [],
   "source": [
    "import os\n",
    "\n",
    "import tensorflow as tf\n",
    "from tensorflow import keras\n",
    "from tensorflow.keras import backend, layers, optimizers, regularizers, callbacks\n",
    "\n",
    "import numpy as np\n",
    "\n",
    "import src.media as media\n",
    "import src.predict as predict\n",
    "import src.train as train\n",
    "import src.dataset as dataset\n",
    "\n",
    "from src.yolov4.yolov4 import YOLOv4"
   ]
  },
  {
   "cell_type": "code",
   "execution_count": 2,
   "metadata": {},
   "outputs": [
    {
     "name": "stdout",
     "output_type": "stream",
     "text": [
      "[PhysicalDevice(name='/physical_device:GPU:0', device_type='GPU')]\n"
     ]
    }
   ],
   "source": [
    "gpus = tf.config.experimental.list_physical_devices('GPU')\n",
    "print(gpus)"
   ]
  },
  {
   "cell_type": "code",
   "execution_count": 3,
   "metadata": {},
   "outputs": [],
   "source": [
    "anchors = np.array([\n",
    "    [[12, 16], [19, 36], [40, 28]],\n",
    "    [[36, 75], [76, 55], [72, 146]],\n",
    "    [[142, 110], [192, 243], [459, 401]],\n",
    "]).astype(np.float32).reshape(3, 3, 2)\n",
    "strides = np.array([8, 16, 32])\n",
    "xyscales = np.array([1.2, 1.1, 1.05])\n",
    "input_size = (608, 416)"
   ]
  },
  {
   "cell_type": "code",
   "execution_count": null,
   "metadata": {},
   "outputs": [],
   "source": [
    "class_names_path = os.path.join(os.getcwd(), \"dataset\", \"coco.names\")\n",
    "classes = media.read_classes_names(class_names_path)"
   ]
  },
  {
   "cell_type": "code",
   "execution_count": null,
   "metadata": {},
   "outputs": [],
   "source": [
    "def load_dataset(\n",
    "    dataset_path,\n",
    "    dataset_type=\"converted_coco\",\n",
    "    label_smoothing=0.1,\n",
    "    image_path_prefix=None,\n",
    "    training=True,\n",
    "):\n",
    "    return dataset.Dataset(\n",
    "        anchors=anchors,\n",
    "        batch_size=batch_size,\n",
    "        dataset_path=dataset_path,\n",
    "        dataset_type=dataset_type,\n",
    "        data_augmentation=training,\n",
    "        input_size=input_size,\n",
    "        label_smoothing=label_smoothing,\n",
    "        num_classes=len(classes),\n",
    "        image_path_prefix=image_path_prefix,\n",
    "        strides=strides,\n",
    "        xyscales=xyscales,\n",
    "    )"
   ]
  },
  {
   "cell_type": "code",
   "execution_count": null,
   "metadata": {},
   "outputs": [],
   "source": [
    "train_data_set = load_dataset(\n",
    "    os.path.join(os.getcwd(), \"dataset\", \"train2017.txt\"),\n",
    "    image_path_prefix=\"/content/train2017\",\n",
    "    label_smoothing=0.05\n",
    ")"
   ]
  },
  {
   "cell_type": "code",
   "execution_count": null,
   "metadata": {},
   "outputs": [],
   "source": [
    "val_data_set = load_dataset(\n",
    "    os.path.join(os.getcwd(), \"dataset\", \"val2017.txt\"),\n",
    "    image_path_prefix=\"/content/val2017\",\n",
    "    label_smoothing=0.05\n",
    ")"
   ]
  },
  {
   "cell_type": "code",
   "execution_count": null,
   "metadata": {},
   "outputs": [],
   "source": [
    "epochs = 400\n",
    "batch_size = 32\n",
    "lr=1e-4\n",
    "def lr_scheduler(epoch):\n",
    "    if epoch < int(epochs * 0.5):\n",
    "        return lr\n",
    "    if epoch < int(epochs * 0.8):\n",
    "        return lr * 0.5\n",
    "    if epoch < int(epochs * 0.9):\n",
    "        return lr * 0.1\n",
    "    return lr * 0.01"
   ]
  },
  {
   "cell_type": "code",
   "execution_count": null,
   "metadata": {},
   "outputs": [],
   "source": [
    "backend.clear_session()\n",
    "inputs = layers.Input([input_size[1], input_size[0], 3])\n",
    "yolo = YOLOv4(\n",
    "    anchors=anchors,\n",
    "    num_classes=len(classes),\n",
    "    xyscales=xyscales,\n",
    "    kernel_regularizer=regularizers.l2(0.0005)\n",
    ")\n",
    "model = keras.Sequential()\n",
    "model.add(inputs)\n",
    "model.add(yolo)"
   ]
  },
  {
   "cell_type": "code",
   "execution_count": null,
   "metadata": {},
   "outputs": [],
   "source": [
    "optimizer = optimizers.Adam(learning_rate=lr)\n",
    "loss_iou_type = \"ciou\"\n",
    "loss_verbose = 1\n",
    "\n",
    "model.compile(\n",
    "    optimizer=optimizer,\n",
    "    loss=train.YOLOv4Loss(\n",
    "        batch_size=batch_size,\n",
    "        iou_type=loss_iou_type,\n",
    "        verbose=loss_verbose\n",
    "    )\n",
    ")\n",
    "\n",
    "verbose = 2\n",
    "callbacks = [\n",
    "    callbacks.LearningRateScheduler(lr_scheduler),\n",
    "    callbacks.TerminateOnNaN(),\n",
    "    callbacks.TensorBoard(\n",
    "        log_dir=os.path.join(os.getcwd(), \"logs\")\n",
    "    )\n",
    "]\n",
    "initial_epoch = 0\n",
    "steps_per_epoch = 100\n",
    "validation_steps = 50\n",
    "validation_freq = 5"
   ]
  },
  {
   "cell_type": "code",
   "execution_count": null,
   "metadata": {},
   "outputs": [],
   "source": [
    "model.fit(\n",
    "    train_data_set,\n",
    "    batch_size=batch_size,\n",
    "    epochs=epochs,\n",
    "    verbose=verbose,\n",
    "    callbacks=callbacks,\n",
    "    validation_data=val_data_set,\n",
    "    initial_epoch=initial_epoch,\n",
    "    steps_per_epoch=steps_per_epoch,\n",
    "    validation_steps=validation_steps,\n",
    "    validation_freq=validation_freq\n",
    ")"
   ]
  }
 ],
 "metadata": {
  "kernelspec": {
   "display_name": "Python 3",
   "language": "python",
   "name": "python3"
  },
  "language_info": {
   "codemirror_mode": {
    "name": "ipython",
    "version": 3
   },
   "file_extension": ".py",
   "mimetype": "text/x-python",
   "name": "python",
   "nbconvert_exporter": "python",
   "pygments_lexer": "ipython3",
   "version": "3.7.9"
  }
 },
 "nbformat": 4,
 "nbformat_minor": 4
}